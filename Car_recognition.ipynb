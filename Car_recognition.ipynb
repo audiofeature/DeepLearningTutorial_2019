{
 "cells": [
  {
   "cell_type": "markdown",
   "metadata": {},
   "source": [
    "# Tutorial: Deep Learning using Convolutional Neural Networks\n",
    "# Example: Car Recognition\n",
    "\n",
    "This tutorial shows how Convolutional Neural Networks are used to recognize cars on images vs. images with no cars on them (binary classification).\n",
    "\n",
    "The data set used is the [UIUC Image Database for Car Detection](http://cogcomp.cs.illinois.edu/Data/Car/) containing:\n",
    "* 1050 training images (550 car and 500 non-car images)\n",
    "* 170 test images, containing 200 cars at roughly the same scale as in the training images \n",
    "(we do not use the multi-scale test images, containing 139 cars at various scales, here)\n",
    "\n",
    "This tutorial contains:\n",
    "* Image Loading and Preprocessing\n",
    "* Standardization of Data\n",
    "* Fully Connected Neural Networks\n",
    "* Convolutional Neural Networks\n",
    "* Batch Normalization\n",
    "* ReLU Activation\n",
    "* Dropout\n",
    "* Data Augmentation\n",
    "* Plotting the Training Curve\n",
    "\n",
    "You can execute the following code blocks by pressing SHIFT+Enter consecutively."
   ]
  },
  {
   "cell_type": "code",
   "execution_count": 1,
   "metadata": {},
   "outputs": [
    {
     "name": "stderr",
     "output_type": "stream",
     "text": [
      "Using TensorFlow backend.\n"
     ]
    }
   ],
   "source": [
    "import os\n",
    "\n",
    "# if you want to use the GPU\n",
    "#device = 'gpu'\n",
    "#os.environ['THEANO_FLAGS']='mode=FAST_RUN,device=' + device + ',floatX=float32'\n",
    "\n",
    "import argparse\n",
    "import csv\n",
    "import datetime\n",
    "import glob\n",
    "import math\n",
    "import numpy as np\n",
    "import sys\n",
    "import time\n",
    "\n",
    "from PIL import Image\n",
    "from sklearn.metrics import accuracy_score\n",
    "\n",
    "#import keras\n",
    "from keras.backend import floatx  # abstract default float type for Keras (e.g. float32)\n",
    "from keras.models import Sequential\n",
    "from keras.layers import Conv2D, MaxPooling2D, Activation, Dense, Dropout, Flatten\n",
    "from keras.layers.normalization import BatchNormalization\n",
    "\n",
    "np.random.seed(1) # we initialize a random seed here to make the experiments repeatable with same results"
   ]
  },
  {
   "cell_type": "markdown",
   "metadata": {},
   "source": [
    "## Load the Images from Training Set"
   ]
  },
  {
   "cell_type": "markdown",
   "metadata": {},
   "source": [
    "Set the DATA_PATH please:"
   ]
  },
  {
   "cell_type": "code",
   "execution_count": 2,
   "metadata": {},
   "outputs": [],
   "source": [
    "# if you use the iDSDL Lab machine\n",
    "DATA_PATH = '/home/ffg/idsdlmteacher1/Code/DeepLearningTutorial_2019/data'\n",
    "# if you downloaded the dataset into the tutorial folder (otherwise adjust the DATA_PATH please)\n",
    "# DATA_PATH = '.'"
   ]
  },
  {
   "cell_type": "code",
   "execution_count": 3,
   "metadata": {},
   "outputs": [
    {
     "name": "stdout",
     "output_type": "stream",
     "text": [
      "Found 1050 files\n"
     ]
    }
   ],
   "source": [
    "path = os.path.join(DATA_PATH, 'CarData/TrainImages')\n",
    "files = glob.glob(os.path.join(path, '*.pgm'))\n",
    "print(\"Found %d files\" % len(files))"
   ]
  },
  {
   "cell_type": "code",
   "execution_count": 4,
   "metadata": {},
   "outputs": [],
   "source": [
    "images = []\n",
    "image_names = []\n",
    "\n",
    "for filename in files:\n",
    "    image_names.append(os.path.basename(filename))\n",
    "    with Image.open(filename) as img:\n",
    "        images.append(np.array(img)) # we convert the images to a Numpy array and store them in a list"
   ]
  },
  {
   "cell_type": "code",
   "execution_count": 5,
   "metadata": {},
   "outputs": [
    {
     "data": {
      "text/plain": [
       "1050"
      ]
     },
     "execution_count": 5,
     "metadata": {},
     "output_type": "execute_result"
    }
   ],
   "source": [
    "len(images)"
   ]
  },
  {
   "cell_type": "code",
   "execution_count": 6,
   "metadata": {},
   "outputs": [
    {
     "name": "stdout",
     "output_type": "stream",
     "text": [
      "pos-372.pgm\n"
     ]
    },
    {
     "data": {
      "image/png": "[encoded data removed]",
      "text/plain": [
       "<PIL.Image.Image image mode=L size=100x40 at 0x7FE59FF45940>"
      ]
     },
     "execution_count": 6,
     "metadata": {},
     "output_type": "execute_result"
    }
   ],
   "source": [
    "# show a selected image to check\n",
    "i=700\n",
    "print(image_names[i])\n",
    "Image.fromarray(images[i])"
   ]
  },
  {
   "cell_type": "code",
   "execution_count": 7,
   "metadata": {},
   "outputs": [
    {
     "data": {
      "text/plain": [
       "numpy.ndarray"
      ]
     },
     "execution_count": 7,
     "metadata": {},
     "output_type": "execute_result"
    }
   ],
   "source": [
    "type(images[i])"
   ]
  },
  {
   "cell_type": "code",
   "execution_count": 8,
   "metadata": {},
   "outputs": [
    {
     "data": {
      "text/plain": [
       "(40, 100)"
      ]
     },
     "execution_count": 8,
     "metadata": {},
     "output_type": "execute_result"
    }
   ],
   "source": [
    "images[i].shape   # height x width   (Numpy ordering)"
   ]
  },
  {
   "cell_type": "markdown",
   "metadata": {},
   "source": [
    "Note: Color RGB images have an additional dimension of depth 3, e.g. (40, 100, 3)"
   ]
  },
  {
   "cell_type": "markdown",
   "metadata": {},
   "source": [
    "## Make 1 big array of list of images"
   ]
  },
  {
   "cell_type": "code",
   "execution_count": 9,
   "metadata": {},
   "outputs": [
    {
     "data": {
      "text/plain": [
       "(1050, 40, 100)"
      ]
     },
     "execution_count": 9,
     "metadata": {},
     "output_type": "execute_result"
    }
   ],
   "source": [
    "# a list of many 40x100 images is made into 1 big array\n",
    "# as data type we use \"floatx()\" from Keras which is imported above (for GPU it is most often float32)\n",
    "img_array = np.array(images, dtype=floatx())\n",
    "img_array.shape"
   ]
  },
  {
   "cell_type": "markdown",
   "metadata": {},
   "source": [
    "## Create the Groundtruth based on filenames:\n",
    "\n",
    "In this data set, images with cars start with \"pos-\" and images with no cars start with \"neg-\". We create a numeric list here, containing 1 for car images and 0 for non-car images."
   ]
  },
  {
   "cell_type": "code",
   "execution_count": 10,
   "metadata": {},
   "outputs": [],
   "source": [
    "classes = []\n",
    "for name in image_names:\n",
    "    if name.startswith('neg'):\n",
    "        classes.append(0)\n",
    "    else:\n",
    "        classes.append(1)"
   ]
  },
  {
   "cell_type": "code",
   "execution_count": 11,
   "metadata": {},
   "outputs": [
    {
     "data": {
      "text/plain": [
       "[1, 1, 1, 1, 0, 0, 1, 0, 1, 0, 0, 0, 0, 1, 1, 0, 1, 0, 0, 1, 0, 1, 1, 1, 1]"
      ]
     },
     "execution_count": 11,
     "metadata": {},
     "output_type": "execute_result"
    }
   ],
   "source": [
    "# look at the first 25 classes\n",
    "classes[0:25]"
   ]
  },
  {
   "cell_type": "code",
   "execution_count": 12,
   "metadata": {},
   "outputs": [
    {
     "data": {
      "text/plain": [
       "[1, 1, 0, 0, 1, 1, 0, 0, 0, 1, 0, 1, 1, 0, 0, 0, 1, 1, 0, 1]"
      ]
     },
     "execution_count": 12,
     "metadata": {},
     "output_type": "execute_result"
    }
   ],
   "source": [
    "# look classes 490 to 510\n",
    "classes[490:510]"
   ]
  },
  {
   "cell_type": "code",
   "execution_count": 13,
   "metadata": {},
   "outputs": [
    {
     "name": "stdout",
     "output_type": "stream",
     "text": [
      "Groundtruth Statistics:\n",
      "Class 0: 500 instances\n",
      "Class 1: 550 instances\n"
     ]
    }
   ],
   "source": [
    "print(\"Groundtruth Statistics:\")\n",
    "\n",
    "for c in set(classes):\n",
    "    print(\"Class {}: {} instances\".format(c, classes.count(c)))"
   ]
  },
  {
   "cell_type": "code",
   "execution_count": 14,
   "metadata": {},
   "outputs": [
    {
     "name": "stdout",
     "output_type": "stream",
     "text": [
      "baseline = 0.524\n"
     ]
    }
   ],
   "source": [
    "baseline = 550 * 1.0 / len(classes)\n",
    "print(\"baseline = %.3f\" % baseline)"
   ]
  },
  {
   "cell_type": "markdown",
   "metadata": {},
   "source": [
    "The baseline is 52.4%, i.e. a 'dumb' classifier can assign all predictions to the majority class achieving this accurcay. We aim at building a classifier that performs better than that."
   ]
  },
  {
   "cell_type": "markdown",
   "metadata": {},
   "source": [
    "## Standardization\n",
    "\n",
    "<b>Always standardize</b> the data before feeding it into the Neural Network!\n",
    "\n",
    "Here we use <b>Zero-mean Unit-variance standardization</b> which means we deduct the mean and divide by the standard deviation.\n",
    "\n",
    "(Note: Here, we do this \"flat\", i.e. one mean and std.dev. for the whole image is computed over all pixels (not per pixel); in RGB images, standardization can be done e.g. for each colour channel individually; in other/non-image data sets, attribute-wise standardization should be applied)."
   ]
  },
  {
   "cell_type": "code",
   "execution_count": 15,
   "metadata": {},
   "outputs": [
    {
     "data": {
      "text/plain": [
       "(0.0, 255.0)"
      ]
     },
     "execution_count": 15,
     "metadata": {},
     "output_type": "execute_result"
    }
   ],
   "source": [
    "img_array.min(), img_array.max()"
   ]
  },
  {
   "cell_type": "code",
   "execution_count": 16,
   "metadata": {},
   "outputs": [
    {
     "data": {
      "text/plain": [
       "(129.58241, 74.27671)"
      ]
     },
     "execution_count": 16,
     "metadata": {},
     "output_type": "execute_result"
    }
   ],
   "source": [
    "# compute mean and standard deviation\n",
    "mean = img_array.mean()\n",
    "stddev = img_array.std()\n",
    "mean, stddev"
   ]
  },
  {
   "cell_type": "code",
   "execution_count": 17,
   "metadata": {},
   "outputs": [
    {
     "data": {
      "text/plain": [
       "(7.446289e-07, 0.9999999)"
      ]
     },
     "execution_count": 17,
     "metadata": {},
     "output_type": "execute_result"
    }
   ],
   "source": [
    "# apply zero mean unit variance standardization on all pixels of all images\n",
    "img_array = (img_array - mean) / stddev\n",
    "img_array.mean(), img_array.std()"
   ]
  },
  {
   "cell_type": "code",
   "execution_count": 18,
   "metadata": {},
   "outputs": [
    {
     "data": {
      "text/plain": [
       "(-1.74459, 7.446289e-07, 1.6885183)"
      ]
     },
     "execution_count": 18,
     "metadata": {},
     "output_type": "execute_result"
    }
   ],
   "source": [
    "#check the new min, mean and max\n",
    "img_array.min(), img_array.mean(), img_array.max()"
   ]
  },
  {
   "cell_type": "markdown",
   "metadata": {},
   "source": [
    "# Creating Neural Network Models in Keras"
   ]
  },
  {
   "cell_type": "markdown",
   "metadata": {},
   "source": [
    "## Fully Connected Networks\n",
    "\n",
    "For a fully connected neural network, the x and y axis of an image do not play a role at all. All pixels are considered as a completely individual input to the neural network. Therefore the 2D image arrays have to be flattened to a vector."
   ]
  },
  {
   "cell_type": "code",
   "execution_count": 19,
   "metadata": {},
   "outputs": [
    {
     "data": {
      "text/plain": [
       "(1050, 4000)"
      ]
     },
     "execution_count": 19,
     "metadata": {},
     "output_type": "execute_result"
    }
   ],
   "source": [
    "#  flatten images to vectors\n",
    "images_flat = img_array.reshape(img_array.shape[0],-1)\n",
    "images_flat.shape"
   ]
  },
  {
   "cell_type": "code",
   "execution_count": 20,
   "metadata": {},
   "outputs": [
    {
     "data": {
      "text/plain": [
       "4000"
      ]
     },
     "execution_count": 20,
     "metadata": {},
     "output_type": "execute_result"
    }
   ],
   "source": [
    "# find out input shape for NN, which is just a long vector (40x100 = 4000)\n",
    "input_shape = images_flat.shape[1]\n",
    "input_shape"
   ]
  },
  {
   "cell_type": "markdown",
   "metadata": {},
   "source": [
    "### Creating a Model\n",
    "\n",
    "In Keras, one can choose between a **Sequential model** and a **Graph model**. Sequential models are the standard case. Graph models are for parallel networks and use the functional API (see Music/Speech tutorial).\n",
    "\n",
    "Here we create a sequential model with 2 fully connected (a.k.a. 'dense') layers containing 256 units each.\n",
    "\n",
    "The output unit is a single Sigmoid unit which can predict values between 0 and 1."
   ]
  },
  {
   "cell_type": "code",
   "execution_count": 21,
   "metadata": {},
   "outputs": [],
   "source": [
    "# simple Fully-connected network with 2 hidden Dense layers\n",
    "\n",
    "model = Sequential()\n",
    "\n",
    "model.add(Dense(256, input_dim=input_shape))\n",
    "\n",
    "model.add(Dense(256))\n",
    "\n",
    "model.add(Dense(1,activation='sigmoid'))"
   ]
  },
  {
   "cell_type": "markdown",
   "metadata": {},
   "source": [
    "Printing the model's summary of layers is always a good idea:"
   ]
  },
  {
   "cell_type": "code",
   "execution_count": 22,
   "metadata": {},
   "outputs": [
    {
     "name": "stdout",
     "output_type": "stream",
     "text": [
      "_________________________________________________________________\n",
      "Layer (type)                 Output Shape              Param #   \n",
      "=================================================================\n",
      "dense_1 (Dense)              (None, 256)               1024256   \n",
      "_________________________________________________________________\n",
      "dense_2 (Dense)              (None, 256)               65792     \n",
      "_________________________________________________________________\n",
      "dense_3 (Dense)              (None, 1)                 257       \n",
      "=================================================================\n",
      "Total params: 1,090,305\n",
      "Trainable params: 1,090,305\n",
      "Non-trainable params: 0\n",
      "_________________________________________________________________\n"
     ]
    }
   ],
   "source": [
    "model.summary()"
   ]
  },
  {
   "cell_type": "code",
   "execution_count": 23,
   "metadata": {},
   "outputs": [],
   "source": [
    "#from IPython.display import SVG\n",
    "#from keras.utils.vis_utils import model_to_dot\n",
    "#SVG(model_to_dot(model).create(prog='dot', format='svg'))"
   ]
  },
  {
   "cell_type": "markdown",
   "metadata": {},
   "source": [
    "### Defining Loss Function and Optimizer Strategy: Gradient Descent"
   ]
  },
  {
   "cell_type": "code",
   "execution_count": 24,
   "metadata": {},
   "outputs": [],
   "source": [
    "# Define a loss function \n",
    "loss = 'binary_crossentropy'  # 'categorical_crossentropy' for multi-class problems\n",
    "\n",
    "# Optimizer = Stochastic Gradient Descent\n",
    "optimizer = 'sgd' \n",
    "\n",
    "# Compiling the model: creates the whole model structure in memory \n",
    "model.compile(loss=loss, optimizer=optimizer, metrics=['accuracy'])"
   ]
  },
  {
   "cell_type": "markdown",
   "metadata": {},
   "source": [
    "### Training the model on the input dataset"
   ]
  },
  {
   "cell_type": "markdown",
   "metadata": {},
   "source": [
    "We define the number of epochs (= training cycles) and a batch size (= number of images presented to the network for each weight update):"
   ]
  },
  {
   "cell_type": "code",
   "execution_count": 25,
   "metadata": {},
   "outputs": [
    {
     "name": "stdout",
     "output_type": "stream",
     "text": [
      "Epoch 1/15\n",
      "1050/1050 [==============================] - 0s 402us/step - loss: 0.4758 - acc: 0.7790\n",
      "Epoch 2/15\n",
      "1050/1050 [==============================] - 0s 165us/step - loss: 0.3069 - acc: 0.8581\n",
      "Epoch 3/15\n",
      "1050/1050 [==============================] - 0s 163us/step - loss: 0.2432 - acc: 0.8914\n",
      "Epoch 4/15\n",
      "1050/1050 [==============================] - 0s 166us/step - loss: 0.1916 - acc: 0.9229\n",
      "Epoch 5/15\n",
      "1050/1050 [==============================] - 0s 166us/step - loss: 0.1581 - acc: 0.9419\n",
      "Epoch 6/15\n",
      "1050/1050 [==============================] - 0s 166us/step - loss: 0.1357 - acc: 0.9562\n",
      "Epoch 7/15\n",
      "1050/1050 [==============================] - 0s 166us/step - loss: 0.1116 - acc: 0.9686\n",
      "Epoch 8/15\n",
      "1050/1050 [==============================] - 0s 167us/step - loss: 0.1001 - acc: 0.9686\n",
      "Epoch 9/15\n",
      "1050/1050 [==============================] - 0s 166us/step - loss: 0.0850 - acc: 0.9790\n",
      "Epoch 10/15\n",
      "1050/1050 [==============================] - 0s 165us/step - loss: 0.0671 - acc: 0.9924\n",
      "Epoch 11/15\n",
      "1050/1050 [==============================] - 0s 167us/step - loss: 0.0539 - acc: 0.9943\n",
      "Epoch 12/15\n",
      "1050/1050 [==============================] - 0s 166us/step - loss: 0.0470 - acc: 0.9971\n",
      "Epoch 13/15\n",
      "1050/1050 [==============================] - 0s 167us/step - loss: 0.0402 - acc: 0.9981\n",
      "Epoch 14/15\n",
      "1050/1050 [==============================] - 0s 165us/step - loss: 0.0335 - acc: 1.0000\n",
      "Epoch 15/15\n",
      "1050/1050 [==============================] - 0s 167us/step - loss: 0.0292 - acc: 0.9990\n"
     ]
    },
    {
     "data": {
      "text/plain": [
       "<keras.callbacks.History at 0x7fe59fee0b70>"
      ]
     },
     "execution_count": 25,
     "metadata": {},
     "output_type": "execute_result"
    }
   ],
   "source": [
    "epochs = 15\n",
    "model.fit(images_flat, classes, batch_size=32, epochs=epochs) #, validation_data=validation_data) "
   ]
  },
  {
   "cell_type": "code",
   "execution_count": 26,
   "metadata": {},
   "outputs": [
    {
     "data": {
      "text/plain": [
       "0.9990476190476191"
      ]
     },
     "execution_count": 26,
     "metadata": {},
     "output_type": "execute_result"
    }
   ],
   "source": [
    "# verify Accuracy on Train set\n",
    "predictions = model.predict_classes(images_flat)\n",
    "accuracy_score(classes, predictions)"
   ]
  },
  {
   "cell_type": "markdown",
   "metadata": {},
   "source": [
    "### 100% Accuracy - perfect, no?\n",
    "\n",
    "This is the accuracy on the training set. A (large, especially fully connected network with sufficient number of units) can easily learn the entire training set (especially a small one like here).\n",
    "\n",
    "This very likely leads to <b>overfitting</b>. That's why we test on an independent test set.\n"
   ]
  },
  {
   "cell_type": "markdown",
   "metadata": {},
   "source": [
    "# Testing with Test Data Set"
   ]
  },
  {
   "cell_type": "code",
   "execution_count": 27,
   "metadata": {},
   "outputs": [
    {
     "name": "stdout",
     "output_type": "stream",
     "text": [
      "Found 170 files\n"
     ]
    }
   ],
   "source": [
    "path = os.path.join(DATA_PATH, 'CarData/TestImages')\n",
    "files = glob.glob(os.path.join(path, '*.pgm'))\n",
    "print(\"Found %d files\" % len(files))"
   ]
  },
  {
   "cell_type": "markdown",
   "metadata": {},
   "source": [
    "The images to predict might be of different shape and size. We are using a resize and crop function (defined in image_preprocessing.py) to bring them to the same format (40x100) as needed by our neural network."
   ]
  },
  {
   "cell_type": "code",
   "execution_count": 28,
   "metadata": {},
   "outputs": [
    {
     "name": "stdout",
     "output_type": "stream",
     "text": [
      "Image size: original: (266, 158) \t reshaped: (100, 40)\n",
      "Image size: original: (155, 106) \t reshaped: (100, 40)\n",
      "Image size: original: (302, 146) \t reshaped: (100, 40)\n",
      "Image size: original: (150, 98) \t reshaped: (100, 40)\n",
      "Image size: original: (240, 145) \t reshaped: (100, 40)\n",
      "Image size: original: (167, 110) \t reshaped: (100, 40)\n",
      "Image size: original: (170, 91) \t reshaped: (100, 40)\n",
      "Image size: original: (160, 109) \t reshaped: (100, 40)\n",
      "Image size: original: (144, 98) \t reshaped: (100, 40)\n",
      "Image size: original: (175, 90) \t reshaped: (100, 40)\n",
      "Image size: original: (246, 110) \t reshaped: (100, 40)\n",
      "Image size: original: (142, 83) \t reshaped: (100, 40)\n",
      "Image size: original: (183, 123) \t reshaped: (100, 40)\n",
      "Image size: original: (146, 89) \t reshaped: (100, 40)\n",
      "Image size: original: (155, 106) \t reshaped: (100, 40)\n",
      "Image size: original: (146, 94) \t reshaped: (100, 40)\n",
      "Image size: original: (175, 119) \t reshaped: (100, 40)\n",
      "Image size: original: (235, 117) \t reshaped: (100, 40)\n",
      "Image size: original: (160, 95) \t reshaped: (100, 40)\n",
      "Image size: original: (219, 132) \t reshaped: (100, 40)\n",
      "Image size: original: (170, 98) \t reshaped: (100, 40)\n",
      "Image size: original: (140, 95) \t reshaped: (100, 40)\n",
      "Image size: original: (132, 106) \t reshaped: (100, 40)\n",
      "Image size: original: (225, 140) \t reshaped: (100, 40)\n",
      "Image size: original: (159, 111) \t reshaped: (100, 40)\n",
      "Image size: original: (160, 100) \t reshaped: (100, 40)\n",
      "Image size: original: (190, 123) \t reshaped: (100, 40)\n",
      "Image size: original: (205, 119) \t reshaped: (100, 40)\n",
      "Image size: original: (261, 156) \t reshaped: (100, 40)\n",
      "Image size: original: (200, 136) \t reshaped: (100, 40)\n",
      "Image size: original: (165, 113) \t reshaped: (100, 40)\n",
      "Image size: original: (110, 75) \t reshaped: (100, 40)\n",
      "Image size: original: (174, 83) \t reshaped: (100, 40)\n",
      "Image size: original: (160, 109) \t reshaped: (100, 40)\n",
      "Image size: original: (159, 119) \t reshaped: (100, 40)\n",
      "Image size: original: (186, 121) \t reshaped: (100, 40)\n",
      "Image size: original: (145, 99) \t reshaped: (100, 40)\n",
      "Image size: original: (159, 119) \t reshaped: (100, 40)\n",
      "Image size: original: (124, 85) \t reshaped: (100, 40)\n",
      "Image size: original: (209, 143) \t reshaped: (100, 40)\n",
      "Image size: original: (160, 97) \t reshaped: (100, 40)\n",
      "Image size: original: (264, 145) \t reshaped: (100, 40)\n",
      "Image size: original: (190, 101) \t reshaped: (100, 40)\n",
      "Image size: original: (280, 138) \t reshaped: (100, 40)\n",
      "Image size: original: (180, 101) \t reshaped: (100, 40)\n",
      "Image size: original: (220, 124) \t reshaped: (100, 40)\n",
      "Image size: original: (229, 118) \t reshaped: (100, 40)\n",
      "Image size: original: (146, 110) \t reshaped: (100, 40)\n",
      "Image size: original: (157, 107) \t reshaped: (100, 40)\n",
      "Image size: original: (180, 123) \t reshaped: (100, 40)\n",
      "Image size: original: (150, 88) \t reshaped: (100, 40)\n",
      "Image size: original: (160, 109) \t reshaped: (100, 40)\n",
      "Image size: original: (212, 126) \t reshaped: (100, 40)\n",
      "Image size: original: (229, 112) \t reshaped: (100, 40)\n",
      "Image size: original: (173, 103) \t reshaped: (100, 40)\n",
      "Image size: original: (245, 157) \t reshaped: (100, 40)\n",
      "Image size: original: (159, 99) \t reshaped: (100, 40)\n",
      "Image size: original: (260, 195) \t reshaped: (100, 40)\n",
      "Image size: original: (126, 86) \t reshaped: (100, 40)\n",
      "Image size: original: (266, 140) \t reshaped: (100, 40)\n",
      "Image size: original: (229, 146) \t reshaped: (100, 40)\n",
      "Image size: original: (180, 135) \t reshaped: (100, 40)\n",
      "Image size: original: (175, 119) \t reshaped: (100, 40)\n",
      "Image size: original: (138, 73) \t reshaped: (100, 40)\n",
      "Image size: original: (175, 108) \t reshaped: (100, 40)\n",
      "Image size: original: (217, 141) \t reshaped: (100, 40)\n",
      "Image size: original: (159, 112) \t reshaped: (100, 40)\n",
      "Image size: original: (145, 99) \t reshaped: (100, 40)\n",
      "Image size: original: (150, 102) \t reshaped: (100, 40)\n",
      "Image size: original: (177, 107) \t reshaped: (100, 40)\n",
      "Image size: original: (190, 130) \t reshaped: (100, 40)\n",
      "Image size: original: (135, 76) \t reshaped: (100, 40)\n",
      "Image size: original: (181, 98) \t reshaped: (100, 40)\n",
      "Image size: original: (168, 106) \t reshaped: (100, 40)\n",
      "Image size: original: (140, 88) \t reshaped: (100, 40)\n",
      "Image size: original: (169, 115) \t reshaped: (100, 40)\n",
      "Image size: original: (176, 120) \t reshaped: (100, 40)\n",
      "Image size: original: (226, 125) \t reshaped: (100, 40)\n",
      "Image size: original: (225, 143) \t reshaped: (100, 40)\n",
      "Image size: original: (125, 85) \t reshaped: (100, 40)\n",
      "Image size: original: (186, 116) \t reshaped: (100, 40)\n",
      "Image size: original: (149, 112) \t reshaped: (100, 40)\n",
      "Image size: original: (266, 147) \t reshaped: (100, 40)\n",
      "Image size: original: (235, 176) \t reshaped: (100, 40)\n",
      "Image size: original: (230, 140) \t reshaped: (100, 40)\n",
      "Image size: original: (120, 82) \t reshaped: (100, 40)\n",
      "Image size: original: (272, 138) \t reshaped: (100, 40)\n",
      "Image size: original: (168, 102) \t reshaped: (100, 40)\n",
      "Image size: original: (184, 108) \t reshaped: (100, 40)\n",
      "Image size: original: (155, 98) \t reshaped: (100, 40)\n",
      "Image size: original: (235, 143) \t reshaped: (100, 40)\n",
      "Image size: original: (260, 155) \t reshaped: (100, 40)\n",
      "Image size: original: (230, 157) \t reshaped: (100, 40)\n",
      "Image size: original: (153, 115) \t reshaped: (100, 40)\n",
      "Image size: original: (234, 126) \t reshaped: (100, 40)\n",
      "Image size: original: (204, 127) \t reshaped: (100, 40)\n",
      "Image size: original: (180, 100) \t reshaped: (100, 40)\n",
      "Image size: original: (205, 134) \t reshaped: (100, 40)\n",
      "Image size: original: (151, 98) \t reshaped: (100, 40)\n",
      "Image size: original: (189, 110) \t reshaped: (100, 40)\n",
      "Image size: original: (167, 112) \t reshaped: (100, 40)\n",
      "Image size: original: (152, 91) \t reshaped: (100, 40)\n",
      "Image size: original: (165, 102) \t reshaped: (100, 40)\n",
      "Image size: original: (213, 98) \t reshaped: (100, 40)\n",
      "Image size: original: (167, 91) \t reshaped: (100, 40)\n",
      "Image size: original: (302, 186) \t reshaped: (100, 40)\n",
      "Image size: original: (216, 159) \t reshaped: (100, 40)\n",
      "Image size: original: (160, 83) \t reshaped: (100, 40)\n",
      "Image size: original: (174, 96) \t reshaped: (100, 40)\n",
      "Image size: original: (235, 134) \t reshaped: (100, 40)\n",
      "Image size: original: (170, 116) \t reshaped: (100, 40)\n",
      "Image size: original: (250, 156) \t reshaped: (100, 40)\n",
      "Image size: original: (210, 115) \t reshaped: (100, 40)\n",
      "Image size: original: (167, 101) \t reshaped: (100, 40)\n",
      "Image size: original: (220, 145) \t reshaped: (100, 40)\n",
      "Image size: original: (178, 109) \t reshaped: (100, 40)\n",
      "Image size: original: (206, 136) \t reshaped: (100, 40)\n",
      "Image size: original: (253, 172) \t reshaped: (100, 40)\n",
      "Image size: original: (147, 100) \t reshaped: (100, 40)\n",
      "Image size: original: (252, 155) \t reshaped: (100, 40)\n",
      "Image size: original: (184, 124) \t reshaped: (100, 40)\n",
      "Image size: original: (325, 147) \t reshaped: (100, 40)\n",
      "Image size: original: (188, 112) \t reshaped: (100, 40)\n",
      "Image size: original: (270, 162) \t reshaped: (100, 40)\n",
      "Image size: original: (200, 150) \t reshaped: (100, 40)\n",
      "Image size: original: (126, 86) \t reshaped: (100, 40)\n",
      "Image size: original: (167, 99) \t reshaped: (100, 40)\n",
      "Image size: original: (225, 127) \t reshaped: (100, 40)\n",
      "Image size: original: (228, 128) \t reshaped: (100, 40)\n",
      "Image size: original: (163, 111) \t reshaped: (100, 40)\n",
      "Image size: original: (150, 90) \t reshaped: (100, 40)\n",
      "Image size: original: (128, 96) \t reshaped: (100, 40)\n",
      "Image size: original: (212, 128) \t reshaped: (100, 40)\n",
      "Image size: original: (172, 117) \t reshaped: (100, 40)\n",
      "Image size: original: (301, 179) \t reshaped: (100, 40)\n",
      "Image size: original: (138, 87) \t reshaped: (100, 40)\n",
      "Image size: original: (175, 108) \t reshaped: (100, 40)\n",
      "Image size: original: (150, 103) \t reshaped: (100, 40)\n",
      "Image size: original: (128, 77) \t reshaped: (100, 40)\n",
      "Image size: original: (178, 114) \t reshaped: (100, 40)\n",
      "Image size: original: (168, 115) \t reshaped: (100, 40)\n",
      "Image size: original: (180, 126) \t reshaped: (100, 40)\n",
      "Image size: original: (168, 115) \t reshaped: (100, 40)\n",
      "Image size: original: (179, 100) \t reshaped: (100, 40)\n",
      "Image size: original: (175, 119) \t reshaped: (100, 40)\n",
      "Image size: original: (154, 105) \t reshaped: (100, 40)\n",
      "Image size: original: (200, 150) \t reshaped: (100, 40)\n",
      "Image size: original: (175, 119) \t reshaped: (100, 40)\n",
      "Image size: original: (160, 104) \t reshaped: (100, 40)\n",
      "Image size: original: (207, 116) \t reshaped: (100, 40)\n",
      "Image size: original: (185, 126) \t reshaped: (100, 40)\n"
     ]
    },
    {
     "name": "stdout",
     "output_type": "stream",
     "text": [
      "Image size: original: (220, 130) \t reshaped: (100, 40)\n",
      "Image size: original: (360, 176) \t reshaped: (100, 40)\n",
      "Image size: original: (200, 139) \t reshaped: (100, 40)\n",
      "Image size: original: (200, 150) \t reshaped: (100, 40)\n",
      "Image size: original: (142, 92) \t reshaped: (100, 40)\n",
      "Image size: original: (135, 93) \t reshaped: (100, 40)\n",
      "Image size: original: (206, 137) \t reshaped: (100, 40)\n",
      "Image size: original: (175, 119) \t reshaped: (100, 40)\n",
      "Image size: original: (277, 164) \t reshaped: (100, 40)\n",
      "Image size: original: (275, 137) \t reshaped: (100, 40)\n",
      "Image size: original: (200, 119) \t reshaped: (100, 40)\n",
      "Image size: original: (265, 199) \t reshaped: (100, 40)\n",
      "Image size: original: (200, 113) \t reshaped: (100, 40)\n",
      "Image size: original: (194, 125) \t reshaped: (100, 40)\n",
      "Image size: original: (180, 116) \t reshaped: (100, 40)\n",
      "Image size: original: (149, 97) \t reshaped: (100, 40)\n",
      "Image size: original: (119, 90) \t reshaped: (100, 40)\n",
      "Image size: original: (188, 119) \t reshaped: (100, 40)\n",
      "Image size: original: (193, 124) \t reshaped: (100, 40)\n"
     ]
    }
   ],
   "source": [
    "from image_preprocessing import resize_and_crop\n",
    "\n",
    "test_images = []\n",
    "\n",
    "for filename in files:\n",
    "    with Image.open(filename) as img:\n",
    "        img_resized = resize_and_crop(img,target_width=100,target_height=40)\n",
    "        test_images.append(np.array(img_resized))\n",
    "        print(\"Image size: original: {} \\t reshaped: {}\".format(img.size, img_resized.size))"
   ]
  },
  {
   "cell_type": "code",
   "execution_count": 29,
   "metadata": {},
   "outputs": [
    {
     "data": {
      "image/png": "[encoded data removed]",
      "text/plain": [
       "<PIL.Image.Image image mode=L size=100x40 at 0x7FE59E0E9908>"
      ]
     },
     "execution_count": 29,
     "metadata": {},
     "output_type": "execute_result"
    }
   ],
   "source": [
    "# show random image\n",
    "i=4\n",
    "Image.fromarray(test_images[i])"
   ]
  },
  {
   "cell_type": "code",
   "execution_count": 30,
   "metadata": {},
   "outputs": [],
   "source": [
    "# make 1 big array again from list\n",
    "test_images = np.array(test_images, dtype=floatx())"
   ]
  },
  {
   "cell_type": "markdown",
   "metadata": {},
   "source": [
    "### Standardize Test Set\n",
    "\n",
    "The test data has to be standardized <b>in the same way</b> as the training data for compatibility with the model! That means, we take the mean and standard deviation of the <i>training data</i> to transform also the test data."
   ]
  },
  {
   "cell_type": "code",
   "execution_count": 31,
   "metadata": {},
   "outputs": [],
   "source": [
    "# NO! we take the same mean and stddev from the training data above!\n",
    "#mean = test_images.mean()\n",
    "#stddev = test_images.std()\n",
    "#print(mean, stddev)"
   ]
  },
  {
   "cell_type": "code",
   "execution_count": 32,
   "metadata": {},
   "outputs": [
    {
     "data": {
      "text/plain": [
       "(122.19739, 72.07709)"
      ]
     },
     "execution_count": 32,
     "metadata": {},
     "output_type": "execute_result"
    }
   ],
   "source": [
    "test_images.mean(), test_images.std()"
   ]
  },
  {
   "cell_type": "code",
   "execution_count": 33,
   "metadata": {},
   "outputs": [],
   "source": [
    "# re-use values from train set above\n",
    "test_images = (test_images - mean) / stddev"
   ]
  },
  {
   "cell_type": "markdown",
   "metadata": {},
   "source": [
    "### Flatten Images for Full model"
   ]
  },
  {
   "cell_type": "code",
   "execution_count": 34,
   "metadata": {},
   "outputs": [
    {
     "data": {
      "text/plain": [
       "(170, 4000)"
      ]
     },
     "execution_count": 34,
     "metadata": {},
     "output_type": "execute_result"
    }
   ],
   "source": [
    "test_images_flat = test_images.reshape(test_images.shape[0],-1)\n",
    "test_images_flat.shape"
   ]
  },
  {
   "cell_type": "markdown",
   "metadata": {},
   "source": [
    "### Make Predictions"
   ]
  },
  {
   "cell_type": "code",
   "execution_count": 35,
   "metadata": {},
   "outputs": [
    {
     "data": {
      "text/plain": [
       "array([0, 1, 0, 1, 0, 1, 1, 1, 1, 0, 0, 1, 0, 1, 0, 1, 0, 0, 0, 1, 1, 0,\n",
       "       1, 1, 1, 1, 1, 0, 1, 1], dtype=int32)"
      ]
     },
     "execution_count": 35,
     "metadata": {},
     "output_type": "execute_result"
    }
   ],
   "source": [
    "test_pred = model.predict_classes(test_images_flat)\n",
    "# show 30 first predictions\n",
    "test_pred[0:30,0]"
   ]
  },
  {
   "cell_type": "code",
   "execution_count": 36,
   "metadata": {},
   "outputs": [],
   "source": [
    "# Groundtruth:\n",
    "# this TEST SET contains ONLY CARS on images! \n",
    "# Thus all the test classes are 1\n",
    "test_classes = [1] * len(files)"
   ]
  },
  {
   "cell_type": "code",
   "execution_count": 37,
   "metadata": {},
   "outputs": [
    {
     "data": {
      "text/plain": [
       "93"
      ]
     },
     "execution_count": 37,
     "metadata": {},
     "output_type": "execute_result"
    }
   ],
   "source": [
    "# let's count the number of ones ...\n",
    "test_pred.sum()"
   ]
  },
  {
   "cell_type": "markdown",
   "metadata": {},
   "source": [
    "As ALL our test classes are 1, counting the number of 1's and dividing by number of files gives us the Accuracy:"
   ]
  },
  {
   "cell_type": "code",
   "execution_count": 38,
   "metadata": {},
   "outputs": [
    {
     "data": {
      "text/plain": [
       "170"
      ]
     },
     "execution_count": 38,
     "metadata": {},
     "output_type": "execute_result"
    }
   ],
   "source": [
    "len(files)"
   ]
  },
  {
   "cell_type": "code",
   "execution_count": 39,
   "metadata": {},
   "outputs": [
    {
     "data": {
      "text/plain": [
       "0.5470588235294118"
      ]
     },
     "execution_count": 39,
     "metadata": {},
     "output_type": "execute_result"
    }
   ],
   "source": [
    "test_pred.sum() / len(files)"
   ]
  },
  {
   "cell_type": "markdown",
   "metadata": {},
   "source": [
    "The real way to do it is to compare the predictions (test_pred) with the ground truth (test_classes) and sum up the correct ones.\n",
    "This is exactly what the scikit-learn function <i>accuracy_score</i> does:"
   ]
  },
  {
   "cell_type": "code",
   "execution_count": 40,
   "metadata": {},
   "outputs": [
    {
     "data": {
      "text/plain": [
       "0.5470588235294118"
      ]
     },
     "execution_count": 40,
     "metadata": {},
     "output_type": "execute_result"
    }
   ],
   "source": [
    "acc = accuracy_score(test_classes, test_pred)\n",
    "acc"
   ]
  },
  {
   "cell_type": "markdown",
   "metadata": {},
   "source": [
    "Accuracy on the Test Set is rather low."
   ]
  },
  {
   "cell_type": "markdown",
   "metadata": {},
   "source": [
    "# Convolutional Neural Networks\n",
    "\n",
    "A Convolutional Neural Network (ConvNet or CNN) is a type of (deep) Neural Network that is well-suited for 2D axes data, such as images, as it is optimized for learning from spatial proximity. Its core elements are 2D filter kernels which essentially learn the weights of the Neural Network, and downscaling functions such as Max Pooling.\n",
    "\n",
    "A CNN can have one or more Convolution layers, each of them having an arbitrary number of N filters (which define the depth of the CNN layer), following typically by a pooling step, which groups neighboring pixels together and thus reduces the image resolution by retaining only the maximum values of neighboring pixels."
   ]
  },
  {
   "cell_type": "markdown",
   "metadata": {},
   "source": [
    "### Input\n",
    "\n",
    "Our input to the CNN is the standardized version of the original image array.\n",
    "\n",
    "#### Adding the channel\n",
    "\n",
    "For CNNs, we need to add a dimension for the color channel to the data. RGB images typically have an 3rd dimension with the color. \n",
    "<b>For greyscale images we need to add an extra dimension for compatibility with the CNN implementation.</b>\n",
    "\n",
    "In Tensorflow, the color channel is the <b>last</b> dimension in the image shape. \n",
    "\n",
    "For greyscale images, we add the number 1 as the depth of the additional dimension of the input shape (for RGB color images, the number of channels is 3)."
   ]
  },
  {
   "cell_type": "code",
   "execution_count": 41,
   "metadata": {},
   "outputs": [],
   "source": [
    "n_channels = 1\n",
    "N, height, width = img_array.shape\n",
    "train_img = img_array.reshape(N, height, width, n_channels)  # Tensorflow ordering: channnel last\n",
    "N, height, width = test_images.shape  # height and width should/must be the same as img_array\n",
    "test_img = test_images.reshape(N, height, width, n_channels)"
   ]
  },
  {
   "cell_type": "code",
   "execution_count": 42,
   "metadata": {},
   "outputs": [],
   "source": [
    "# NOTE: 2 alternative ways to do the same:\n",
    "# a) train_img = np.expand_dims(img_array, axis=3)\n",
    "# b) train_img = img_array[:,:,:,np.newaxis]"
   ]
  },
  {
   "cell_type": "code",
   "execution_count": 43,
   "metadata": {},
   "outputs": [
    {
     "data": {
      "text/plain": [
       "(1050, 40, 100)"
      ]
     },
     "execution_count": 43,
     "metadata": {},
     "output_type": "execute_result"
    }
   ],
   "source": [
    "img_array.shape"
   ]
  },
  {
   "cell_type": "code",
   "execution_count": 44,
   "metadata": {},
   "outputs": [
    {
     "data": {
      "text/plain": [
       "(1050, 40, 100, 1)"
      ]
     },
     "execution_count": 44,
     "metadata": {},
     "output_type": "execute_result"
    }
   ],
   "source": [
    "train_img.shape"
   ]
  },
  {
   "cell_type": "code",
   "execution_count": 45,
   "metadata": {},
   "outputs": [
    {
     "data": {
      "text/plain": [
       "(40, 100, 1)"
      ]
     },
     "execution_count": 45,
     "metadata": {},
     "output_type": "execute_result"
    }
   ],
   "source": [
    "# we store the new shape of the images in the 'input_shape' variable.\n",
    "# take all dimensions except the 0th one (which is the number of images)\n",
    "    \n",
    "input_shape = train_img.shape[1:]  \n",
    "input_shape"
   ]
  },
  {
   "cell_type": "markdown",
   "metadata": {},
   "source": [
    "## Create a simple CNN model\n",
    "\n",
    "We start with a simple 2 layer Convolutional Neural Network, defined as a Keras Sequential model:"
   ]
  },
  {
   "cell_type": "code",
   "execution_count": 46,
   "metadata": {},
   "outputs": [],
   "source": [
    "def simpleModel():\n",
    "    model = Sequential()\n",
    "\n",
    "    # Layer 1\n",
    "    model.add(Conv2D(filters=16, kernel_size=(3,3), input_shape=input_shape, activation='relu'))\n",
    "    model.add(MaxPooling2D(pool_size=(2, 2)))  # reducing image resolution by half\n",
    "\n",
    "    # Layer 2\n",
    "    model.add(Conv2D(filters=32, kernel_size=(3,3), activation='relu'))  # input_shape is only needed in 1st layer\n",
    "    model.add(MaxPooling2D(pool_size=(2, 2)))\n",
    "\n",
    "    # the 2D output of a Conv Layer has to be flattened before going into a Dense Layer\n",
    "    model.add(Flatten()) # Note: Keras does automatic shape inference.\n",
    "\n",
    "    # Full Layer\n",
    "    #model.add(Dense(256), activation='sigmoid')\n",
    "\n",
    "    # Output Layer\n",
    "    model.add(Dense(1, activation='sigmoid'))\n",
    "    \n",
    "    return model"
   ]
  },
  {
   "cell_type": "code",
   "execution_count": 47,
   "metadata": {},
   "outputs": [
    {
     "name": "stdout",
     "output_type": "stream",
     "text": [
      "_________________________________________________________________\n",
      "Layer (type)                 Output Shape              Param #   \n",
      "=================================================================\n",
      "conv2d_1 (Conv2D)            (None, 38, 98, 16)        160       \n",
      "_________________________________________________________________\n",
      "max_pooling2d_1 (MaxPooling2 (None, 19, 49, 16)        0         \n",
      "_________________________________________________________________\n",
      "conv2d_2 (Conv2D)            (None, 17, 47, 32)        4640      \n",
      "_________________________________________________________________\n",
      "max_pooling2d_2 (MaxPooling2 (None, 8, 23, 32)         0         \n",
      "_________________________________________________________________\n",
      "flatten_1 (Flatten)          (None, 5888)              0         \n",
      "_________________________________________________________________\n",
      "dense_4 (Dense)              (None, 1)                 5889      \n",
      "=================================================================\n",
      "Total params: 10,689\n",
      "Trainable params: 10,689\n",
      "Non-trainable params: 0\n",
      "_________________________________________________________________\n"
     ]
    }
   ],
   "source": [
    "model = simpleModel()\n",
    "model.summary()"
   ]
  },
  {
   "cell_type": "markdown",
   "metadata": {},
   "source": [
    "## Training the CNN"
   ]
  },
  {
   "cell_type": "code",
   "execution_count": 48,
   "metadata": {},
   "outputs": [],
   "source": [
    "# Compiling the model\n",
    "loss = 'binary_crossentropy' \n",
    "optimizer = 'sgd' \n",
    "\n",
    "model.compile(loss=loss, optimizer=optimizer, metrics=['accuracy'])"
   ]
  },
  {
   "cell_type": "code",
   "execution_count": 49,
   "metadata": {},
   "outputs": [
    {
     "name": "stdout",
     "output_type": "stream",
     "text": [
      "Epoch 1/15\n",
      "1050/1050 [==============================] - 1s 860us/step - loss: 0.6118 - acc: 0.7038\n",
      "Epoch 2/15\n",
      "1050/1050 [==============================] - 1s 672us/step - loss: 0.3953 - acc: 0.8838\n",
      "Epoch 3/15\n",
      "1050/1050 [==============================] - 1s 678us/step - loss: 0.2694 - acc: 0.9143\n",
      "Epoch 4/15\n",
      "1050/1050 [==============================] - 1s 735us/step - loss: 0.2022 - acc: 0.9429\n",
      "Epoch 5/15\n",
      "1050/1050 [==============================] - 1s 676us/step - loss: 0.1563 - acc: 0.9581\n",
      "Epoch 6/15\n",
      "1050/1050 [==============================] - 1s 660us/step - loss: 0.1298 - acc: 0.9629\n",
      "Epoch 7/15\n",
      "1050/1050 [==============================] - 1s 649us/step - loss: 0.1085 - acc: 0.9648\n",
      "Epoch 8/15\n",
      "1050/1050 [==============================] - 1s 653us/step - loss: 0.0910 - acc: 0.9771\n",
      "Epoch 9/15\n",
      "1050/1050 [==============================] - 1s 647us/step - loss: 0.0808 - acc: 0.9810\n",
      "Epoch 10/15\n",
      "1050/1050 [==============================] - 1s 655us/step - loss: 0.0778 - acc: 0.9762\n",
      "Epoch 11/15\n",
      "1050/1050 [==============================] - 1s 648us/step - loss: 0.0657 - acc: 0.9829\n",
      "Epoch 12/15\n",
      "1050/1050 [==============================] - 1s 648us/step - loss: 0.0641 - acc: 0.9800\n",
      "Epoch 13/15\n",
      "1050/1050 [==============================] - 1s 649us/step - loss: 0.0582 - acc: 0.9867\n",
      "Epoch 14/15\n",
      "1050/1050 [==============================] - 1s 655us/step - loss: 0.0526 - acc: 0.9838\n",
      "Epoch 15/15\n",
      "1050/1050 [==============================] - 1s 664us/step - loss: 0.0490 - acc: 0.9876\n"
     ]
    }
   ],
   "source": [
    "# TRAINING the model\n",
    "epochs = 15\n",
    "history = model.fit(train_img, classes, batch_size=32, epochs=epochs)"
   ]
  },
  {
   "cell_type": "markdown",
   "metadata": {},
   "source": [
    "<b>Again, our Accuracy rises quickly to almost 100%, with the CNN now even faster than with the Fully Connected Network.\n",
    "But is our model really good at predicting unseen data?</b>"
   ]
  },
  {
   "cell_type": "markdown",
   "metadata": {},
   "source": [
    "### Training with Validation Data\n",
    "\n",
    "We split off 10 % of the training data and use it as independend validation set to verify how good we are\n",
    "on an independent data (not used for training) in each epoch"
   ]
  },
  {
   "cell_type": "code",
   "execution_count": 50,
   "metadata": {},
   "outputs": [
    {
     "name": "stdout",
     "output_type": "stream",
     "text": [
      "Train on 945 samples, validate on 105 samples\n",
      "Epoch 1/15\n",
      "945/945 [==============================] - 1s 977us/step - loss: 0.6382 - acc: 0.6561 - val_loss: 0.5771 - val_acc: 0.7714\n",
      "Epoch 2/15\n",
      "945/945 [==============================] - 1s 681us/step - loss: 0.4847 - acc: 0.8656 - val_loss: 0.4389 - val_acc: 0.8667\n",
      "Epoch 3/15\n",
      "945/945 [==============================] - 1s 690us/step - loss: 0.3439 - acc: 0.9026 - val_loss: 0.3365 - val_acc: 0.8952\n",
      "Epoch 4/15\n",
      "945/945 [==============================] - 1s 688us/step - loss: 0.2529 - acc: 0.9217 - val_loss: 0.2765 - val_acc: 0.8952\n",
      "Epoch 5/15\n",
      "945/945 [==============================] - 1s 680us/step - loss: 0.2013 - acc: 0.9312 - val_loss: 0.2199 - val_acc: 0.9333\n",
      "Epoch 6/15\n",
      "945/945 [==============================] - 1s 690us/step - loss: 0.1605 - acc: 0.9524 - val_loss: 0.1728 - val_acc: 0.9429\n",
      "Epoch 7/15\n",
      "945/945 [==============================] - 1s 682us/step - loss: 0.1375 - acc: 0.9566 - val_loss: 0.1422 - val_acc: 0.9619\n",
      "Epoch 8/15\n",
      "945/945 [==============================] - 1s 684us/step - loss: 0.1163 - acc: 0.9683 - val_loss: 0.1214 - val_acc: 0.9714\n",
      "Epoch 9/15\n",
      "945/945 [==============================] - 1s 682us/step - loss: 0.0974 - acc: 0.9746 - val_loss: 0.1977 - val_acc: 0.8762\n",
      "Epoch 10/15\n",
      "945/945 [==============================] - 1s 679us/step - loss: 0.0886 - acc: 0.9788 - val_loss: 0.1099 - val_acc: 0.9714\n",
      "Epoch 11/15\n",
      "945/945 [==============================] - 1s 680us/step - loss: 0.0771 - acc: 0.9767 - val_loss: 0.0847 - val_acc: 0.9810\n",
      "Epoch 12/15\n",
      "945/945 [==============================] - 1s 691us/step - loss: 0.0667 - acc: 0.9852 - val_loss: 0.0765 - val_acc: 0.9810\n",
      "Epoch 13/15\n",
      "945/945 [==============================] - 1s 682us/step - loss: 0.0597 - acc: 0.9905 - val_loss: 0.0817 - val_acc: 0.9810\n",
      "Epoch 14/15\n",
      "945/945 [==============================] - 1s 685us/step - loss: 0.0538 - acc: 0.9894 - val_loss: 0.0678 - val_acc: 0.9810\n",
      "Epoch 15/15\n",
      "945/945 [==============================] - 1s 692us/step - loss: 0.0477 - acc: 0.9937 - val_loss: 0.0686 - val_acc: 0.9810\n"
     ]
    }
   ],
   "source": [
    "# recreate and recompile the model (otherwise we continue learning)\n",
    "model = simpleModel()\n",
    "model.compile(loss=loss, optimizer=optimizer, metrics=['accuracy'])\n",
    "\n",
    "# train with showing accuracy on split off validation data\n",
    "history = model.fit(train_img, classes, batch_size=32, epochs=epochs, validation_split=0.1) # portion of val. data"
   ]
  },
  {
   "cell_type": "markdown",
   "metadata": {},
   "source": [
    "The results on the split-off validation data are quite high (usually similar, but not as high as on the training data)."
   ]
  },
  {
   "cell_type": "markdown",
   "metadata": {},
   "source": [
    "### Using Test Set as Validation Set\n",
    "\n",
    "<b>Note: This usually is not recommended as during experimentation you will overfit also to the test data.</b>\n",
    "\n",
    "We show it here only for demonstration purposes to see how (bad) the validation accuracy is on our independet test data. The recommended way is to have a separate training, validation and test set (i.e. 3 splits or separate data sets)."
   ]
  },
  {
   "cell_type": "code",
   "execution_count": 51,
   "metadata": {},
   "outputs": [
    {
     "name": "stdout",
     "output_type": "stream",
     "text": [
      "Train on 1050 samples, validate on 170 samples\n",
      "Epoch 1/15\n",
      "1050/1050 [==============================] - 1s 986us/step - loss: 0.5869 - acc: 0.7362 - val_loss: 0.8341 - val_acc: 0.2706\n",
      "Epoch 2/15\n",
      "1050/1050 [==============================] - 1s 683us/step - loss: 0.3872 - acc: 0.9057 - val_loss: 1.5264 - val_acc: 0.0706\n",
      "Epoch 3/15\n",
      "1050/1050 [==============================] - 1s 686us/step - loss: 0.2649 - acc: 0.9295 - val_loss: 1.7070 - val_acc: 0.1353\n",
      "Epoch 4/15\n",
      "1050/1050 [==============================] - 1s 689us/step - loss: 0.1911 - acc: 0.9448 - val_loss: 2.4650 - val_acc: 0.0824\n",
      "Epoch 5/15\n",
      "1050/1050 [==============================] - 1s 688us/step - loss: 0.1473 - acc: 0.9648 - val_loss: 2.0923 - val_acc: 0.1412\n",
      "Epoch 6/15\n",
      "1050/1050 [==============================] - 1s 688us/step - loss: 0.1262 - acc: 0.9648 - val_loss: 2.7409 - val_acc: 0.1353\n",
      "Epoch 7/15\n",
      "1050/1050 [==============================] - 1s 684us/step - loss: 0.1028 - acc: 0.9762 - val_loss: 2.7523 - val_acc: 0.1412\n",
      "Epoch 8/15\n",
      "1050/1050 [==============================] - 1s 687us/step - loss: 0.0900 - acc: 0.9810 - val_loss: 2.9278 - val_acc: 0.1471\n",
      "Epoch 9/15\n",
      "1050/1050 [==============================] - 1s 694us/step - loss: 0.0789 - acc: 0.9838 - val_loss: 2.7173 - val_acc: 0.1588\n",
      "Epoch 10/15\n",
      "1050/1050 [==============================] - 1s 694us/step - loss: 0.0710 - acc: 0.9829 - val_loss: 2.4166 - val_acc: 0.1882\n",
      "Epoch 11/15\n",
      "1050/1050 [==============================] - 1s 687us/step - loss: 0.0607 - acc: 0.9876 - val_loss: 3.2215 - val_acc: 0.1529\n",
      "Epoch 12/15\n",
      "1050/1050 [==============================] - 1s 691us/step - loss: 0.0577 - acc: 0.9876 - val_loss: 3.3913 - val_acc: 0.1412\n",
      "Epoch 13/15\n",
      "1050/1050 [==============================] - 1s 680us/step - loss: 0.0484 - acc: 0.9886 - val_loss: 2.8839 - val_acc: 0.1765\n",
      "Epoch 14/15\n",
      "1050/1050 [==============================] - 1s 696us/step - loss: 0.0494 - acc: 0.9876 - val_loss: 3.9140 - val_acc: 0.1353\n",
      "Epoch 15/15\n",
      "1050/1050 [==============================] - 1s 685us/step - loss: 0.0431 - acc: 0.9924 - val_loss: 3.3160 - val_acc: 0.1706\n"
     ]
    }
   ],
   "source": [
    "# recreate and recompile the model (otherwise we continue learning)\n",
    "model = simpleModel()\n",
    "model.compile(loss=loss, optimizer=optimizer, metrics=['accuracy'])\n",
    "\n",
    "# show result on Test Data while training \n",
    "# we use test data as validation data to see direct results (usually NOT RECOMMENDED due to overfitting to the problem!)\n",
    "validation_data = (test_img, test_classes)\n",
    "\n",
    "history = model.fit(train_img, classes, batch_size=32, epochs=epochs, validation_data=validation_data) "
   ]
  },
  {
   "cell_type": "markdown",
   "metadata": {},
   "source": [
    "<b>On the test set we perform really bad: less than 15% Accuracy!</b>"
   ]
  },
  {
   "cell_type": "markdown",
   "metadata": {},
   "source": [
    "### Verifying Accuracy on Test Set"
   ]
  },
  {
   "cell_type": "code",
   "execution_count": 52,
   "metadata": {},
   "outputs": [
    {
     "data": {
      "text/plain": [
       "array([0, 1, 0, 1, 0, 0, 0, 0, 1, 0, 0, 0, 0, 0, 0, 0, 0, 0, 0, 0, 1, 0,\n",
       "       1, 0, 1, 0, 0, 0, 0, 0, 0, 1, 0, 0, 0], dtype=int32)"
      ]
     },
     "execution_count": 52,
     "metadata": {},
     "output_type": "execute_result"
    }
   ],
   "source": [
    "test_pred = model.predict_classes(test_img)\n",
    "# show 35 first predictions\n",
    "test_pred[0:35,0]"
   ]
  },
  {
   "cell_type": "code",
   "execution_count": 53,
   "metadata": {},
   "outputs": [
    {
     "data": {
      "text/plain": [
       "array([1, 1, 1, 1, 1, 1, 1, 1, 1, 1, 1, 1, 1, 1, 1, 1, 1, 1, 1, 1, 1, 1,\n",
       "       1, 1, 1, 1, 1, 1, 1, 1, 1, 1, 1, 1, 1])"
      ]
     },
     "execution_count": 53,
     "metadata": {},
     "output_type": "execute_result"
    }
   ],
   "source": [
    "np.array(test_classes[0:35])"
   ]
  },
  {
   "cell_type": "code",
   "execution_count": 54,
   "metadata": {},
   "outputs": [
    {
     "data": {
      "text/plain": [
       "0.17058823529411765"
      ]
     },
     "execution_count": 54,
     "metadata": {},
     "output_type": "execute_result"
    }
   ],
   "source": [
    "predictions = model.predict_classes(test_img)\n",
    "accuracy_score(test_classes, predictions)"
   ]
  },
  {
   "cell_type": "markdown",
   "metadata": {},
   "source": [
    "## A more advanced CNN model\n",
    "\n",
    "You may try to change the following to see the impact on the result:\n",
    "* number of filters\n",
    "* filter kernel size (e.g. 3 x 3, 5 x 5, ...)\n",
    "* adding/not adding Batch Normalization\n",
    "* adding/not adding ReLU Activation\n",
    "* adding/not adding Max Pooling\n",
    "* changing Pooling size (e.g. 1 x 2, 2 x 2, 2 x 1, or more)\n",
    "* adding/changing/removing Dropout"
   ]
  },
  {
   "cell_type": "code",
   "execution_count": 55,
   "metadata": {},
   "outputs": [],
   "source": [
    "def advancedModel():\n",
    "    model = Sequential()\n",
    "\n",
    "    # this applies n_filters convolution filters of size 3x3 in each of the 2 layers below\n",
    "    n_filters = 16\n",
    "    kernel_size = (3, 3)\n",
    "\n",
    "    # Layer 1\n",
    "    model.add(Conv2D(n_filters, kernel_size, padding='valid', input_shape=input_shape))\n",
    "    # input shape: 100x100 images with 3 channels -> input_shape should be (3, 100, 100) \n",
    "    model.add(BatchNormalization())  # ON/OFF\n",
    "    model.add(Activation('relu'))  # ReLu activation\n",
    "    model.add(MaxPooling2D(pool_size=(2, 2))) # reducing image resolution by half\n",
    "    model.add(Dropout(0.3))  # ON/OFF: random \"deletion\" of %-portion of units in each batch\n",
    "\n",
    "    # Layer 2\n",
    "    model.add(Conv2D(n_filters, kernel_size))  # input_shape is only needed in 1st layer\n",
    "    #model.add(BatchNormalization()) # ON/OFF\n",
    "    model.add(Activation('relu'))\n",
    "    #model.add(MaxPooling2D(pool_size=(2, 2)))  # ON/OFF\n",
    "    model.add(Dropout(0.3))  # ON/OFF\n",
    "\n",
    "    # Flatten\n",
    "    model.add(Flatten())\n",
    "    \n",
    "    # Fully Connected Layer\n",
    "    model.add(Dense(256))\n",
    "    model.add(Activation('relu'))\n",
    "    model.add(Dropout(0.1))\n",
    "\n",
    "    # Output Layer\n",
    "    model.add(Dense(1, activation='sigmoid'))\n",
    "    \n",
    "    return model"
   ]
  },
  {
   "cell_type": "code",
   "execution_count": 56,
   "metadata": {},
   "outputs": [
    {
     "name": "stdout",
     "output_type": "stream",
     "text": [
      "_________________________________________________________________\n",
      "Layer (type)                 Output Shape              Param #   \n",
      "=================================================================\n",
      "conv2d_7 (Conv2D)            (None, 38, 98, 16)        160       \n",
      "_________________________________________________________________\n",
      "batch_normalization_1 (Batch (None, 38, 98, 16)        64        \n",
      "_________________________________________________________________\n",
      "activation_1 (Activation)    (None, 38, 98, 16)        0         \n",
      "_________________________________________________________________\n",
      "max_pooling2d_7 (MaxPooling2 (None, 19, 49, 16)        0         \n",
      "_________________________________________________________________\n",
      "dropout_1 (Dropout)          (None, 19, 49, 16)        0         \n",
      "_________________________________________________________________\n",
      "conv2d_8 (Conv2D)            (None, 17, 47, 16)        2320      \n",
      "_________________________________________________________________\n",
      "activation_2 (Activation)    (None, 17, 47, 16)        0         \n",
      "_________________________________________________________________\n",
      "dropout_2 (Dropout)          (None, 17, 47, 16)        0         \n",
      "_________________________________________________________________\n",
      "flatten_4 (Flatten)          (None, 12784)             0         \n",
      "_________________________________________________________________\n",
      "dense_7 (Dense)              (None, 256)               3272960   \n",
      "_________________________________________________________________\n",
      "activation_3 (Activation)    (None, 256)               0         \n",
      "_________________________________________________________________\n",
      "dropout_3 (Dropout)          (None, 256)               0         \n",
      "_________________________________________________________________\n",
      "dense_8 (Dense)              (None, 1)                 257       \n",
      "=================================================================\n",
      "Total params: 3,275,761\n",
      "Trainable params: 3,275,729\n",
      "Non-trainable params: 32\n",
      "_________________________________________________________________\n"
     ]
    }
   ],
   "source": [
    "model = advancedModel()\n",
    "model.summary()"
   ]
  },
  {
   "cell_type": "markdown",
   "metadata": {},
   "source": [
    "## Training the CNN"
   ]
  },
  {
   "cell_type": "code",
   "execution_count": 57,
   "metadata": {},
   "outputs": [],
   "source": [
    "# Compiling the model\n",
    "loss = 'binary_crossentropy' \n",
    "optimizer = 'sgd' \n",
    "#optimizer = SGD(lr=0.001)  # possibility to adapt the learn rate\n",
    "\n",
    "model.compile(loss=loss, optimizer=optimizer, metrics=['accuracy'])"
   ]
  },
  {
   "cell_type": "code",
   "execution_count": 58,
   "metadata": {
    "scrolled": true
   },
   "outputs": [
    {
     "name": "stdout",
     "output_type": "stream",
     "text": [
      "Epoch 1/15\n",
      "1050/1050 [==============================] - 3s 3ms/step - loss: 0.5234 - acc: 0.8029\n",
      "Epoch 2/15\n",
      "1050/1050 [==============================] - 2s 2ms/step - loss: 0.1916 - acc: 0.9190\n",
      "Epoch 3/15\n",
      "1050/1050 [==============================] - 2s 2ms/step - loss: 0.1278 - acc: 0.9524\n",
      "Epoch 4/15\n",
      "1050/1050 [==============================] - 2s 2ms/step - loss: 0.0871 - acc: 0.9705\n",
      "Epoch 5/15\n",
      "1050/1050 [==============================] - 2s 2ms/step - loss: 0.0522 - acc: 0.9886\n",
      "Epoch 6/15\n",
      "1050/1050 [==============================] - 2s 2ms/step - loss: 0.0509 - acc: 0.9857\n",
      "Epoch 7/15\n",
      "1050/1050 [==============================] - 2s 2ms/step - loss: 0.0446 - acc: 0.9886\n",
      "Epoch 8/15\n",
      "1050/1050 [==============================] - 2s 2ms/step - loss: 0.0309 - acc: 0.9914\n",
      "Epoch 9/15\n",
      "1050/1050 [==============================] - 2s 2ms/step - loss: 0.0394 - acc: 0.9829\n",
      "Epoch 10/15\n",
      "1050/1050 [==============================] - 2s 2ms/step - loss: 0.0253 - acc: 0.9924\n",
      "Epoch 11/15\n",
      "1050/1050 [==============================] - 2s 2ms/step - loss: 0.0205 - acc: 0.9943\n",
      "Epoch 12/15\n",
      "1050/1050 [==============================] - 2s 2ms/step - loss: 0.0189 - acc: 0.9962\n",
      "Epoch 13/15\n",
      "1050/1050 [==============================] - 2s 2ms/step - loss: 0.0248 - acc: 0.9924\n",
      "Epoch 14/15\n",
      "1050/1050 [==============================] - 2s 2ms/step - loss: 0.0143 - acc: 0.9962\n",
      "Epoch 15/15\n",
      "1050/1050 [==============================] - 2s 2ms/step - loss: 0.0189 - acc: 0.9933\n"
     ]
    }
   ],
   "source": [
    "# TRAINING the model\n",
    "epochs = 15\n",
    "history = model.fit(train_img, classes, batch_size=32, epochs=epochs)"
   ]
  },
  {
   "cell_type": "markdown",
   "metadata": {},
   "source": [
    "### Plotting the Training Curve\n",
    "\n",
    "The `model.fit` function returns a history including the evolution of training and validation loss and accuracy. We can plot it to see a nice training curve."
   ]
  },
  {
   "cell_type": "code",
   "execution_count": 59,
   "metadata": {},
   "outputs": [
    {
     "data": {
      "text/plain": [
       "dict_keys(['loss', 'acc'])"
      ]
     },
     "execution_count": 59,
     "metadata": {},
     "output_type": "execute_result"
    }
   ],
   "source": [
    "hist = history.history\n",
    "hist.keys()"
   ]
  },
  {
   "cell_type": "code",
   "execution_count": 60,
   "metadata": {},
   "outputs": [
    {
     "data": {
      "text/plain": [
       "<matplotlib.legend.Legend at 0x7fe49c760eb8>"
      ]
     },
     "execution_count": 60,
     "metadata": {},
     "output_type": "execute_result"
    },
    {
     "data": {
      "image/png": "[encoded data removed]",
      "text/plain": [
       "<Figure size 720x432 with 1 Axes>"
      ]
     },
     "metadata": {
      "needs_background": "light"
     },
     "output_type": "display_data"
    }
   ],
   "source": [
    "# this will only work if you have matplotlib installed\n",
    "\n",
    "import matplotlib.pyplot as plt\n",
    "%matplotlib inline \n",
    "\n",
    "colors = {'loss':'r', 'acc':'b', 'val_loss':'m', 'val_acc':'g'}\n",
    "plt.figure(figsize=(10,6))\n",
    "plt.title(\"Training Curve\") \n",
    "plt.xlabel(\"Epoch\")\n",
    "\n",
    "for measure in hist.keys():\n",
    "    color = colors[measure]\n",
    "    plt.plot(range(1,epochs+1), hist[measure], color + '-', label=measure)  # use last 2 values to draw line\n",
    "\n",
    "plt.legend(loc='upper left', scatterpoints = 1, frameon=False)\n"
   ]
  },
  {
   "cell_type": "markdown",
   "metadata": {},
   "source": [
    "#### Conclusion: We are completely overfitting!\n",
    "While we achieve nearly 100% on the Training Set, the generalization to the Test Set is really bad, with an Accuracy of about only 10%."
   ]
  },
  {
   "cell_type": "markdown",
   "metadata": {},
   "source": [
    "# Data Augmentation\n",
    "\n",
    "Increase the training set by adding more images: Rotate, shift, flip and scale the original images to generate additional examples that will help the Neural Network to generalize better."
   ]
  },
  {
   "cell_type": "code",
   "execution_count": 61,
   "metadata": {},
   "outputs": [],
   "source": [
    "from keras.preprocessing.image import ImageDataGenerator\n",
    "\n",
    "datagen = ImageDataGenerator(\n",
    "    rotation_range=20,\n",
    "    width_shift_range=0.2,\n",
    "    height_shift_range=0.2,\n",
    "    zoom_range=0.2,\n",
    "    horizontal_flip=True)"
   ]
  },
  {
   "cell_type": "code",
   "execution_count": 62,
   "metadata": {},
   "outputs": [],
   "source": [
    "# ImageDataGenerator needs the classes as Numpy array instead of normal list\n",
    "classes_array = np.array(classes)"
   ]
  },
  {
   "cell_type": "code",
   "execution_count": 63,
   "metadata": {},
   "outputs": [],
   "source": [
    "np.random.seed(0) # enforce repeatable result"
   ]
  },
  {
   "cell_type": "code",
   "execution_count": 64,
   "metadata": {},
   "outputs": [
    {
     "data": {
      "text/plain": [
       "65"
      ]
     },
     "execution_count": 64,
     "metadata": {},
     "output_type": "execute_result"
    }
   ],
   "source": [
    "batch_size = 16\n",
    "steps_per_epoch = len(train_img) / batch_size\n",
    "\n",
    "int(steps_per_epoch)"
   ]
  },
  {
   "cell_type": "code",
   "execution_count": 65,
   "metadata": {},
   "outputs": [
    {
     "name": "stdout",
     "output_type": "stream",
     "text": [
      "Epoch 1/15\n",
      "33/32 [==============================] - 3s 93ms/step - loss: 0.6894 - acc: 0.6012 - val_loss: 1.0845 - val_acc: 0.2000\n",
      "Epoch 2/15\n",
      "33/32 [==============================] - 2s 67ms/step - loss: 0.5947 - acc: 0.6766 - val_loss: 1.0235 - val_acc: 0.2882\n",
      "Epoch 3/15\n",
      "33/32 [==============================] - 2s 69ms/step - loss: 0.5452 - acc: 0.7330 - val_loss: 1.3351 - val_acc: 0.1706\n",
      "Epoch 4/15\n",
      "33/32 [==============================] - 2s 68ms/step - loss: 0.5237 - acc: 0.7403 - val_loss: 0.6636 - val_acc: 0.6294\n",
      "Epoch 5/15\n",
      "33/32 [==============================] - 2s 68ms/step - loss: 0.4881 - acc: 0.7538 - val_loss: 0.7720 - val_acc: 0.5529\n",
      "Epoch 6/15\n",
      "33/32 [==============================] - 2s 67ms/step - loss: 0.4521 - acc: 0.7934 - val_loss: 0.8582 - val_acc: 0.5059\n",
      "Epoch 7/15\n",
      "33/32 [==============================] - 2s 67ms/step - loss: 0.4129 - acc: 0.8067 - val_loss: 1.0433 - val_acc: 0.4000\n",
      "Epoch 8/15\n",
      "33/32 [==============================] - 2s 70ms/step - loss: 0.3867 - acc: 0.8379 - val_loss: 0.6240 - val_acc: 0.6353\n",
      "Epoch 9/15\n",
      "33/32 [==============================] - 2s 69ms/step - loss: 0.3568 - acc: 0.8528 - val_loss: 0.5048 - val_acc: 0.7529\n",
      "Epoch 10/15\n",
      "33/32 [==============================] - 2s 71ms/step - loss: 0.3336 - acc: 0.8672 - val_loss: 0.7083 - val_acc: 0.6471\n",
      "Epoch 11/15\n",
      "33/32 [==============================] - 2s 69ms/step - loss: 0.3197 - acc: 0.8666 - val_loss: 0.7698 - val_acc: 0.5588\n",
      "Epoch 12/15\n",
      "33/32 [==============================] - 2s 69ms/step - loss: 0.3132 - acc: 0.8718 - val_loss: 0.4667 - val_acc: 0.7706\n",
      "Epoch 13/15\n",
      "33/32 [==============================] - 2s 70ms/step - loss: 0.3086 - acc: 0.8740 - val_loss: 0.6629 - val_acc: 0.6294\n",
      "Epoch 14/15\n",
      "33/32 [==============================] - 2s 68ms/step - loss: 0.3190 - acc: 0.8620 - val_loss: 0.5533 - val_acc: 0.6882\n",
      "Epoch 15/15\n",
      "33/32 [==============================] - 2s 68ms/step - loss: 0.2605 - acc: 0.9001 - val_loss: 0.4931 - val_acc: 0.7294\n"
     ]
    }
   ],
   "source": [
    "# recreate and recompile the model (otherwise we continue learning)\n",
    "model = advancedModel()\n",
    "model.compile(loss=loss, optimizer=optimizer, metrics=['accuracy'])\n",
    "\n",
    "batch_size = 32\n",
    "# steps_per_epoch is the number of batches to draw from the generator at each epoch. \n",
    "# suggestion: samples_per_epoch(= full train set)/batch_size\n",
    "steps_per_epoch = len(train_img) / batch_size\n",
    "\n",
    "# fits the model on batches with real-time data augmentation:\n",
    "history = model.fit_generator(datagen.flow(train_img, classes_array, batch_size=batch_size),\n",
    "                    steps_per_epoch=steps_per_epoch, epochs=epochs,\n",
    "                    validation_data=validation_data) "
   ]
  },
  {
   "cell_type": "markdown",
   "metadata": {},
   "source": [
    "### Verifying Accuracy on Test Set (with Data Augmentation)"
   ]
  },
  {
   "cell_type": "code",
   "execution_count": 66,
   "metadata": {},
   "outputs": [
    {
     "data": {
      "text/plain": [
       "array([0, 1, 1, 1, 0, 1, 1, 0, 1, 1, 1, 1, 1, 1, 1, 1, 1, 0, 1, 0, 1, 1,\n",
       "       1, 1, 1, 0, 1, 1, 0, 1, 0, 1, 1, 0, 1], dtype=int32)"
      ]
     },
     "execution_count": 66,
     "metadata": {},
     "output_type": "execute_result"
    }
   ],
   "source": [
    "test_pred = model.predict_classes(test_img)\n",
    "test_pred[0:35,0] # show 35 first predictions"
   ]
  },
  {
   "cell_type": "code",
   "execution_count": 67,
   "metadata": {},
   "outputs": [
    {
     "data": {
      "text/plain": [
       "0.7294117647058823"
      ]
     },
     "execution_count": 67,
     "metadata": {},
     "output_type": "execute_result"
    }
   ],
   "source": [
    "predictions = model.predict_classes(test_img)\n",
    "accuracy_score(test_classes, predictions)"
   ]
  },
  {
   "cell_type": "markdown",
   "metadata": {},
   "source": [
    "<b>Conclusion: With Data Augmentation, the model has more diverse training examples and generalizes much better. The Accuracy on the Test Set increases from less than 10% to more than 55% up to 75%!</b>"
   ]
  },
  {
   "cell_type": "markdown",
   "metadata": {},
   "source": [
    "### Plotting the Training Curve with Data Augmentation "
   ]
  },
  {
   "cell_type": "code",
   "execution_count": 68,
   "metadata": {},
   "outputs": [
    {
     "data": {
      "text/plain": [
       "<matplotlib.legend.Legend at 0x7fe3fc772d30>"
      ]
     },
     "execution_count": 68,
     "metadata": {},
     "output_type": "execute_result"
    },
    {
     "data": {
      "image/png": "[encoded data removed]",
      "text/plain": [
       "<Figure size 720x432 with 1 Axes>"
      ]
     },
     "metadata": {
      "needs_background": "light"
     },
     "output_type": "display_data"
    }
   ],
   "source": [
    "hist = history.history\n",
    "\n",
    "plt.figure(figsize=(10,6))\n",
    "plt.title(\"Training Curve\") \n",
    "plt.xlabel(\"Epoch\")\n",
    "\n",
    "for measure in hist.keys():\n",
    "    color = colors[measure]\n",
    "    plt.plot(range(1,epochs+1), hist[measure], color + '-', label=measure)  # use last 2 values to draw line\n",
    "\n",
    "plt.legend(loc='upper left', scatterpoints = 1, frameon=False)\n"
   ]
  },
  {
   "cell_type": "markdown",
   "metadata": {},
   "source": [
    "This graph is not ideal, but we see both training (blue) and validation (green) Accuracy going up, the training loss going continuously down and the validation loss fluctuating, but not exploding like previously."
   ]
  },
  {
   "cell_type": "markdown",
   "metadata": {},
   "source": [
    "# Home Exercises 1\n",
    "\n",
    "* **Exercise 1.1)** Adjust the parameters mentioned under \"A more advanced CNN model\" in the code block of \"def advancedModel():\" above: Tune the parameters and find a model configuration that performs better on the Test Set.\n",
    "* **Exercise 1.2)** Try to improve the Data Augmentation further by adjusting the parameters of the ImageDataGenerator and/or the batch_size and/or steps_per_epoch.\n",
    "\n",
    "For both exercises include:\n",
    "* the code block with the parametrs of the model / augmentation you adapted\n",
    "* the best achieved validation accuracy + valiation loss\n",
    "* the plot of the training curve"
   ]
  }
 ],
 "metadata": {
  "kernelspec": {
   "display_name": "Python 3",
   "language": "python",
   "name": "python3"
  },
  "language_info": {
   "codemirror_mode": {
    "name": "ipython",
    "version": 3
   },
   "file_extension": ".py",
   "mimetype": "text/x-python",
   "name": "python",
   "nbconvert_exporter": "python",
   "pygments_lexer": "ipython3",
   "version": "3.6.7"
  }
 },
 "nbformat": 4,
 "nbformat_minor": 2
}
